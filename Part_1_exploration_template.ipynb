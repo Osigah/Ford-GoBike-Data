{
 "cells": [
  {
   "cell_type": "markdown",
   "metadata": {
    "id": "7yLqgTorupaD"
   },
   "source": [
    "##Analysing the Ford GoBike System Data\n",
    "\n",
    "##by Osigah Ogedegbe"
   ]
  },
  {
   "cell_type": "markdown",
   "metadata": {
    "id": "2b5azRAFucBT"
   },
   "source": [
    "##Table of Contents\n",
    "\n",
    "\n",
    "\n",
    "*   Introduction\n",
    "*   Data Wrangling\n",
    "*   Exploratory Analysis\n",
    "*   Univariate Exploration\n",
    "*   Bivariate Exploration\n",
    "*   Multivariate Exploration\n",
    "*   Conclusion\n",
    "\n"
   ]
  },
  {
   "cell_type": "markdown",
   "metadata": {
    "id": "y1xSAy1uj4bP"
   },
   "source": [
    "##Introduction\n",
    "\n",
    "This data set includes information about individual rides made in a bike-sharing system covering the greater San Francisco Bay area and i will be using this data to discover trends.\n",
    "\n",
    "The Dataset includes these features/variables :\n",
    "\n",
    "1. Trip Duration (seconds)\n",
    "2. Start Time and Date,\n",
    "3. End Time and Date,\n",
    "4. Start Station ID,\n",
    "5. Start Station Name,\n",
    "6. Start Station Latitude,\n",
    "7. Start Station Longitude,\n",
    "8. End Station ID,\n",
    "9. End Station Name,\n",
    "10. End Station Latitude,\n",
    "11. End Station Longitude,\n",
    "12. Bike ID,\n",
    "13. User Type (Subscriber or Customer)\n",
    "14. Birth Year\n",
    "15. Gender\n",
    "16. Bike share for all trip\n",
    "\n"
   ]
  },
  {
   "cell_type": "code",
   "execution_count": 1,
   "metadata": {
    "id": "_3clyYxCNsNU"
   },
   "outputs": [],
   "source": [
    "import pandas as pd\n",
    "import numpy as np\n",
    "import matplotlib.pyplot as plt\n",
    "import datetime\n",
    "import seaborn as sns\n",
    "\n",
    "%matplotlib inline"
   ]
  },
  {
   "cell_type": "code",
   "execution_count": null,
   "metadata": {
    "colab": {
     "base_uri": "https://localhost:8080/"
    },
    "id": "gU__YfP2b9Jr",
    "outputId": "1c1f0518-8a69-4ae1-e989-d0c2a2cc530c"
   },
   "outputs": [
    {
     "name": "stdout",
     "output_type": "stream",
     "text": [
      "Drive already mounted at /content/drive; to attempt to forcibly remount, call drive.mount(\"/content/drive\", force_remount=True).\n"
     ]
    }
   ],
   "source": [
    "from google.colab import drive\n",
    "drive.mount('/content/drive')"
   ]
  },
  {
   "cell_type": "code",
   "execution_count": 2,
   "metadata": {
    "id": "R7P4Uoydb-Pp"
   },
   "outputs": [],
   "source": [
    "bikes_df = pd.read_csv('/content/drive/MyDrive/201902-fordgobike-tripdata.csv')"
   ]
  },
  {
   "cell_type": "code",
   "execution_count": 3,
   "metadata": {
    "colab": {
     "base_uri": "https://localhost:8080/",
     "height": 423
    },
    "id": "Z5hfaZIGc2O0",
    "outputId": "4f5347ec-a5e2-429c-f0a8-69992591cc8b"
   },
   "outputs": [
    {
     "data": {
      "text/html": [
       "\n",
       "  <div id=\"df-75420d39-bd62-4b71-810a-b15416ffead4\">\n",
       "    <div class=\"colab-df-container\">\n",
       "      <div>\n",
       "<style scoped>\n",
       "    .dataframe tbody tr th:only-of-type {\n",
       "        vertical-align: middle;\n",
       "    }\n",
       "\n",
       "    .dataframe tbody tr th {\n",
       "        vertical-align: top;\n",
       "    }\n",
       "\n",
       "    .dataframe thead th {\n",
       "        text-align: right;\n",
       "    }\n",
       "</style>\n",
       "<table border=\"1\" class=\"dataframe\">\n",
       "  <thead>\n",
       "    <tr style=\"text-align: right;\">\n",
       "      <th></th>\n",
       "      <th>duration_sec</th>\n",
       "      <th>start_time</th>\n",
       "      <th>end_time</th>\n",
       "      <th>start_station_id</th>\n",
       "      <th>start_station_name</th>\n",
       "      <th>start_station_latitude</th>\n",
       "      <th>start_station_longitude</th>\n",
       "      <th>end_station_id</th>\n",
       "      <th>end_station_name</th>\n",
       "      <th>end_station_latitude</th>\n",
       "      <th>end_station_longitude</th>\n",
       "      <th>bike_id</th>\n",
       "      <th>user_type</th>\n",
       "      <th>member_birth_year</th>\n",
       "      <th>member_gender</th>\n",
       "      <th>bike_share_for_all_trip</th>\n",
       "    </tr>\n",
       "  </thead>\n",
       "  <tbody>\n",
       "    <tr>\n",
       "      <th>165258</th>\n",
       "      <td>194</td>\n",
       "      <td>2019-02-05 07:35:29.6330</td>\n",
       "      <td>2019-02-05 07:38:44.0220</td>\n",
       "      <td>91.0</td>\n",
       "      <td>Berry St at King St</td>\n",
       "      <td>37.771762</td>\n",
       "      <td>-122.398438</td>\n",
       "      <td>79.0</td>\n",
       "      <td>7th St at Brannan St</td>\n",
       "      <td>37.773492</td>\n",
       "      <td>-122.403672</td>\n",
       "      <td>3443</td>\n",
       "      <td>Subscriber</td>\n",
       "      <td>NaN</td>\n",
       "      <td>NaN</td>\n",
       "      <td>No</td>\n",
       "    </tr>\n",
       "    <tr>\n",
       "      <th>92813</th>\n",
       "      <td>743</td>\n",
       "      <td>2019-02-15 18:15:44.2120</td>\n",
       "      <td>2019-02-15 18:28:07.5310</td>\n",
       "      <td>194.0</td>\n",
       "      <td>Lakeshore Ave at Trestle Glen Rd</td>\n",
       "      <td>37.811081</td>\n",
       "      <td>-122.243268</td>\n",
       "      <td>211.0</td>\n",
       "      <td>Broadway at 40th St</td>\n",
       "      <td>37.827757</td>\n",
       "      <td>-122.256716</td>\n",
       "      <td>5198</td>\n",
       "      <td>Subscriber</td>\n",
       "      <td>1991.0</td>\n",
       "      <td>Male</td>\n",
       "      <td>No</td>\n",
       "    </tr>\n",
       "    <tr>\n",
       "      <th>86390</th>\n",
       "      <td>880</td>\n",
       "      <td>2019-02-17 12:48:40.3870</td>\n",
       "      <td>2019-02-17 13:03:21.2360</td>\n",
       "      <td>31.0</td>\n",
       "      <td>Raymond Kimbell Playground</td>\n",
       "      <td>37.783813</td>\n",
       "      <td>-122.434559</td>\n",
       "      <td>377.0</td>\n",
       "      <td>Fell St at Stanyan St</td>\n",
       "      <td>37.771917</td>\n",
       "      <td>-122.453704</td>\n",
       "      <td>5035</td>\n",
       "      <td>Subscriber</td>\n",
       "      <td>1989.0</td>\n",
       "      <td>Male</td>\n",
       "      <td>No</td>\n",
       "    </tr>\n",
       "    <tr>\n",
       "      <th>170050</th>\n",
       "      <td>355</td>\n",
       "      <td>2019-02-04 08:39:33.6520</td>\n",
       "      <td>2019-02-04 08:45:29.6140</td>\n",
       "      <td>223.0</td>\n",
       "      <td>16th St Mission BART Station 2</td>\n",
       "      <td>37.764765</td>\n",
       "      <td>-122.420091</td>\n",
       "      <td>114.0</td>\n",
       "      <td>Rhode Island St at 17th St</td>\n",
       "      <td>37.764478</td>\n",
       "      <td>-122.402570</td>\n",
       "      <td>5458</td>\n",
       "      <td>Subscriber</td>\n",
       "      <td>1984.0</td>\n",
       "      <td>Male</td>\n",
       "      <td>No</td>\n",
       "    </tr>\n",
       "    <tr>\n",
       "      <th>164669</th>\n",
       "      <td>823</td>\n",
       "      <td>2019-02-05 08:08:49.6800</td>\n",
       "      <td>2019-02-05 08:22:33.3800</td>\n",
       "      <td>55.0</td>\n",
       "      <td>Webster St at Grove St</td>\n",
       "      <td>37.777053</td>\n",
       "      <td>-122.429558</td>\n",
       "      <td>67.0</td>\n",
       "      <td>San Francisco Caltrain Station 2  (Townsend St...</td>\n",
       "      <td>37.776639</td>\n",
       "      <td>-122.395526</td>\n",
       "      <td>5182</td>\n",
       "      <td>Subscriber</td>\n",
       "      <td>1992.0</td>\n",
       "      <td>Female</td>\n",
       "      <td>No</td>\n",
       "    </tr>\n",
       "    <tr>\n",
       "      <th>90548</th>\n",
       "      <td>445</td>\n",
       "      <td>2019-02-16 12:15:18.8550</td>\n",
       "      <td>2019-02-16 12:22:44.2790</td>\n",
       "      <td>93.0</td>\n",
       "      <td>4th St at Mission Bay Blvd S</td>\n",
       "      <td>37.770407</td>\n",
       "      <td>-122.391198</td>\n",
       "      <td>66.0</td>\n",
       "      <td>3rd St at Townsend St</td>\n",
       "      <td>37.778742</td>\n",
       "      <td>-122.392741</td>\n",
       "      <td>5498</td>\n",
       "      <td>Subscriber</td>\n",
       "      <td>1983.0</td>\n",
       "      <td>Male</td>\n",
       "      <td>Yes</td>\n",
       "    </tr>\n",
       "  </tbody>\n",
       "</table>\n",
       "</div>\n",
       "      <button class=\"colab-df-convert\" onclick=\"convertToInteractive('df-75420d39-bd62-4b71-810a-b15416ffead4')\"\n",
       "              title=\"Convert this dataframe to an interactive table.\"\n",
       "              style=\"display:none;\">\n",
       "        \n",
       "  <svg xmlns=\"http://www.w3.org/2000/svg\" height=\"24px\"viewBox=\"0 0 24 24\"\n",
       "       width=\"24px\">\n",
       "    <path d=\"M0 0h24v24H0V0z\" fill=\"none\"/>\n",
       "    <path d=\"M18.56 5.44l.94 2.06.94-2.06 2.06-.94-2.06-.94-.94-2.06-.94 2.06-2.06.94zm-11 1L8.5 8.5l.94-2.06 2.06-.94-2.06-.94L8.5 2.5l-.94 2.06-2.06.94zm10 10l.94 2.06.94-2.06 2.06-.94-2.06-.94-.94-2.06-.94 2.06-2.06.94z\"/><path d=\"M17.41 7.96l-1.37-1.37c-.4-.4-.92-.59-1.43-.59-.52 0-1.04.2-1.43.59L10.3 9.45l-7.72 7.72c-.78.78-.78 2.05 0 2.83L4 21.41c.39.39.9.59 1.41.59.51 0 1.02-.2 1.41-.59l7.78-7.78 2.81-2.81c.8-.78.8-2.07 0-2.86zM5.41 20L4 18.59l7.72-7.72 1.47 1.35L5.41 20z\"/>\n",
       "  </svg>\n",
       "      </button>\n",
       "      \n",
       "  <style>\n",
       "    .colab-df-container {\n",
       "      display:flex;\n",
       "      flex-wrap:wrap;\n",
       "      gap: 12px;\n",
       "    }\n",
       "\n",
       "    .colab-df-convert {\n",
       "      background-color: #E8F0FE;\n",
       "      border: none;\n",
       "      border-radius: 50%;\n",
       "      cursor: pointer;\n",
       "      display: none;\n",
       "      fill: #1967D2;\n",
       "      height: 32px;\n",
       "      padding: 0 0 0 0;\n",
       "      width: 32px;\n",
       "    }\n",
       "\n",
       "    .colab-df-convert:hover {\n",
       "      background-color: #E2EBFA;\n",
       "      box-shadow: 0px 1px 2px rgba(60, 64, 67, 0.3), 0px 1px 3px 1px rgba(60, 64, 67, 0.15);\n",
       "      fill: #174EA6;\n",
       "    }\n",
       "\n",
       "    [theme=dark] .colab-df-convert {\n",
       "      background-color: #3B4455;\n",
       "      fill: #D2E3FC;\n",
       "    }\n",
       "\n",
       "    [theme=dark] .colab-df-convert:hover {\n",
       "      background-color: #434B5C;\n",
       "      box-shadow: 0px 1px 3px 1px rgba(0, 0, 0, 0.15);\n",
       "      filter: drop-shadow(0px 1px 2px rgba(0, 0, 0, 0.3));\n",
       "      fill: #FFFFFF;\n",
       "    }\n",
       "  </style>\n",
       "\n",
       "      <script>\n",
       "        const buttonEl =\n",
       "          document.querySelector('#df-75420d39-bd62-4b71-810a-b15416ffead4 button.colab-df-convert');\n",
       "        buttonEl.style.display =\n",
       "          google.colab.kernel.accessAllowed ? 'block' : 'none';\n",
       "\n",
       "        async function convertToInteractive(key) {\n",
       "          const element = document.querySelector('#df-75420d39-bd62-4b71-810a-b15416ffead4');\n",
       "          const dataTable =\n",
       "            await google.colab.kernel.invokeFunction('convertToInteractive',\n",
       "                                                     [key], {});\n",
       "          if (!dataTable) return;\n",
       "\n",
       "          const docLinkHtml = 'Like what you see? Visit the ' +\n",
       "            '<a target=\"_blank\" href=https://colab.research.google.com/notebooks/data_table.ipynb>data table notebook</a>'\n",
       "            + ' to learn more about interactive tables.';\n",
       "          element.innerHTML = '';\n",
       "          dataTable['output_type'] = 'display_data';\n",
       "          await google.colab.output.renderOutput(dataTable, element);\n",
       "          const docLink = document.createElement('div');\n",
       "          docLink.innerHTML = docLinkHtml;\n",
       "          element.appendChild(docLink);\n",
       "        }\n",
       "      </script>\n",
       "    </div>\n",
       "  </div>\n",
       "  "
      ],
      "text/plain": [
       "        duration_sec                start_time                  end_time  \\\n",
       "165258           194  2019-02-05 07:35:29.6330  2019-02-05 07:38:44.0220   \n",
       "92813            743  2019-02-15 18:15:44.2120  2019-02-15 18:28:07.5310   \n",
       "86390            880  2019-02-17 12:48:40.3870  2019-02-17 13:03:21.2360   \n",
       "170050           355  2019-02-04 08:39:33.6520  2019-02-04 08:45:29.6140   \n",
       "164669           823  2019-02-05 08:08:49.6800  2019-02-05 08:22:33.3800   \n",
       "90548            445  2019-02-16 12:15:18.8550  2019-02-16 12:22:44.2790   \n",
       "\n",
       "        start_station_id                start_station_name  \\\n",
       "165258              91.0               Berry St at King St   \n",
       "92813              194.0  Lakeshore Ave at Trestle Glen Rd   \n",
       "86390               31.0        Raymond Kimbell Playground   \n",
       "170050             223.0    16th St Mission BART Station 2   \n",
       "164669              55.0            Webster St at Grove St   \n",
       "90548               93.0      4th St at Mission Bay Blvd S   \n",
       "\n",
       "        start_station_latitude  start_station_longitude  end_station_id  \\\n",
       "165258               37.771762              -122.398438            79.0   \n",
       "92813                37.811081              -122.243268           211.0   \n",
       "86390                37.783813              -122.434559           377.0   \n",
       "170050               37.764765              -122.420091           114.0   \n",
       "164669               37.777053              -122.429558            67.0   \n",
       "90548                37.770407              -122.391198            66.0   \n",
       "\n",
       "                                         end_station_name  \\\n",
       "165258                               7th St at Brannan St   \n",
       "92813                                 Broadway at 40th St   \n",
       "86390                               Fell St at Stanyan St   \n",
       "170050                         Rhode Island St at 17th St   \n",
       "164669  San Francisco Caltrain Station 2  (Townsend St...   \n",
       "90548                               3rd St at Townsend St   \n",
       "\n",
       "        end_station_latitude  end_station_longitude  bike_id   user_type  \\\n",
       "165258             37.773492            -122.403672     3443  Subscriber   \n",
       "92813              37.827757            -122.256716     5198  Subscriber   \n",
       "86390              37.771917            -122.453704     5035  Subscriber   \n",
       "170050             37.764478            -122.402570     5458  Subscriber   \n",
       "164669             37.776639            -122.395526     5182  Subscriber   \n",
       "90548              37.778742            -122.392741     5498  Subscriber   \n",
       "\n",
       "        member_birth_year member_gender bike_share_for_all_trip  \n",
       "165258                NaN           NaN                      No  \n",
       "92813              1991.0          Male                      No  \n",
       "86390              1989.0          Male                      No  \n",
       "170050             1984.0          Male                      No  \n",
       "164669             1992.0        Female                      No  \n",
       "90548              1983.0          Male                     Yes  "
      ]
     },
     "execution_count": 3,
     "metadata": {},
     "output_type": "execute_result"
    }
   ],
   "source": [
    "bikes_df.sample(6)"
   ]
  },
  {
   "cell_type": "code",
   "execution_count": null,
   "metadata": {
    "colab": {
     "base_uri": "https://localhost:8080/"
    },
    "id": "AMuCr6ZKdZOh",
    "outputId": "e0bfe0bc-2917-4e70-c352-607fbf8e9fff"
   },
   "outputs": [
    {
     "name": "stdout",
     "output_type": "stream",
     "text": [
      "<class 'pandas.core.frame.DataFrame'>\n",
      "RangeIndex: 183412 entries, 0 to 183411\n",
      "Data columns (total 16 columns):\n",
      " #   Column                   Non-Null Count   Dtype  \n",
      "---  ------                   --------------   -----  \n",
      " 0   duration_sec             183412 non-null  int64  \n",
      " 1   start_time               183412 non-null  object \n",
      " 2   end_time                 183412 non-null  object \n",
      " 3   start_station_id         183215 non-null  float64\n",
      " 4   start_station_name       183215 non-null  object \n",
      " 5   start_station_latitude   183412 non-null  float64\n",
      " 6   start_station_longitude  183412 non-null  float64\n",
      " 7   end_station_id           183215 non-null  float64\n",
      " 8   end_station_name         183215 non-null  object \n",
      " 9   end_station_latitude     183412 non-null  float64\n",
      " 10  end_station_longitude    183412 non-null  float64\n",
      " 11  bike_id                  183412 non-null  int64  \n",
      " 12  user_type                183412 non-null  object \n",
      " 13  member_birth_year        175147 non-null  float64\n",
      " 14  member_gender            175147 non-null  object \n",
      " 15  bike_share_for_all_trip  183412 non-null  object \n",
      "dtypes: float64(7), int64(2), object(7)\n",
      "memory usage: 22.4+ MB\n"
     ]
    }
   ],
   "source": [
    "bikes_df.info()"
   ]
  },
  {
   "cell_type": "code",
   "execution_count": null,
   "metadata": {
    "colab": {
     "base_uri": "https://localhost:8080/"
    },
    "id": "AJRWBLahhWis",
    "outputId": "c4877efb-08be-4e05-ae3d-78ca2a0475be"
   },
   "outputs": [
    {
     "data": {
      "text/plain": [
       "duration_sec                  0\n",
       "start_time                    0\n",
       "end_time                      0\n",
       "start_station_id            197\n",
       "start_station_name          197\n",
       "start_station_latitude        0\n",
       "start_station_longitude       0\n",
       "end_station_id              197\n",
       "end_station_name            197\n",
       "end_station_latitude          0\n",
       "end_station_longitude         0\n",
       "bike_id                       0\n",
       "user_type                     0\n",
       "member_birth_year          8265\n",
       "member_gender              8265\n",
       "bike_share_for_all_trip       0\n",
       "dtype: int64"
      ]
     },
     "execution_count": 5,
     "metadata": {},
     "output_type": "execute_result"
    }
   ],
   "source": [
    "bikes_df.isna().sum()"
   ]
  },
  {
   "cell_type": "markdown",
   "metadata": {
    "id": "V4lmmdDnjaeA"
   },
   "source": [
    "There are some null values in the dataset"
   ]
  },
  {
   "cell_type": "code",
   "execution_count": null,
   "metadata": {
    "colab": {
     "base_uri": "https://localhost:8080/"
    },
    "id": "A2bWWqT1hyHC",
    "outputId": "761e7519-f76a-412f-a289-ced3ff56610f"
   },
   "outputs": [
    {
     "data": {
      "text/plain": [
       "0"
      ]
     },
     "execution_count": 6,
     "metadata": {},
     "output_type": "execute_result"
    }
   ],
   "source": [
    "bikes_df.duplicated().sum()"
   ]
  },
  {
   "cell_type": "markdown",
   "metadata": {
    "id": "DJAjUbdIjomo"
   },
   "source": [
    "There are 0 duplicates in the data"
   ]
  },
  {
   "cell_type": "markdown",
   "metadata": {
    "id": "RQiEv7ozjspu"
   },
   "source": [
    "##Data Wrangling\n",
    "\n",
    "####Quality Issues\n",
    "\n",
    "1. start_time and end_time variables are in object/string dtype\n",
    "2. start_station_id and end_station_id variables in int64 dtype\n",
    "3. member_birth_year variable is in float dtype \n",
    "4. user_type variable is in the object dtype"
   ]
  },
  {
   "cell_type": "code",
   "execution_count": 62,
   "metadata": {
    "id": "eCeC8M-rjmgC"
   },
   "outputs": [],
   "source": [
    "bikes_clean = bikes_df.copy() "
   ]
  },
  {
   "cell_type": "code",
   "execution_count": 63,
   "metadata": {
    "id": "UtBnb4EQ59MX"
   },
   "outputs": [],
   "source": [
    "#Fill missing values\n",
    "\n",
    "bikes_clean = bikes_clean.fillna(0)"
   ]
  },
  {
   "cell_type": "code",
   "execution_count": 64,
   "metadata": {
    "colab": {
     "base_uri": "https://localhost:8080/"
    },
    "id": "o3qYc7CGUFiZ",
    "outputId": "d6e34ffe-07bc-4522-c5d5-ad87ae6694bf"
   },
   "outputs": [
    {
     "name": "stdout",
     "output_type": "stream",
     "text": [
      "<class 'pandas.core.frame.DataFrame'>\n",
      "RangeIndex: 183412 entries, 0 to 183411\n",
      "Data columns (total 16 columns):\n",
      " #   Column                   Non-Null Count   Dtype         \n",
      "---  ------                   --------------   -----         \n",
      " 0   duration_sec             183412 non-null  int64         \n",
      " 1   start_time               183412 non-null  datetime64[ns]\n",
      " 2   end_time                 183412 non-null  datetime64[ns]\n",
      " 3   start_station_id         183412 non-null  float64       \n",
      " 4   start_station_name       183412 non-null  object        \n",
      " 5   start_station_latitude   183412 non-null  float64       \n",
      " 6   start_station_longitude  183412 non-null  float64       \n",
      " 7   end_station_id           183412 non-null  float64       \n",
      " 8   end_station_name         183412 non-null  object        \n",
      " 9   end_station_latitude     183412 non-null  float64       \n",
      " 10  end_station_longitude    183412 non-null  float64       \n",
      " 11  bike_id                  183412 non-null  int64         \n",
      " 12  user_type                183412 non-null  category      \n",
      " 13  member_birth_year        183412 non-null  int64         \n",
      " 14  member_gender            183412 non-null  object        \n",
      " 15  bike_share_for_all_trip  183412 non-null  object        \n",
      "dtypes: category(1), datetime64[ns](2), float64(6), int64(3), object(4)\n",
      "memory usage: 21.2+ MB\n"
     ]
    }
   ],
   "source": [
    "bikedtypes = {'start_time': 'datetime64', \n",
    "        'end_time': 'datetime64',\n",
    "        'member_birth_year' : 'int64',\n",
    "        'user_type': 'category'}\n",
    "\n",
    "bikes_clean = bikes_clean.astype(bikedtypes)\n",
    "\n",
    "bikes_clean.info()"
   ]
  },
  {
   "cell_type": "code",
   "execution_count": null,
   "metadata": {
    "colab": {
     "base_uri": "https://localhost:8080/",
     "height": 374
    },
    "id": "WBxL7Bs9XdHA",
    "outputId": "08551dc2-0e6a-4f73-c9c5-f125347cd079"
   },
   "outputs": [
    {
     "data": {
      "text/html": [
       "\n",
       "  <div id=\"df-ef8d526b-be19-4639-b8ff-2e97458b2ea4\">\n",
       "    <div class=\"colab-df-container\">\n",
       "      <div>\n",
       "<style scoped>\n",
       "    .dataframe tbody tr th:only-of-type {\n",
       "        vertical-align: middle;\n",
       "    }\n",
       "\n",
       "    .dataframe tbody tr th {\n",
       "        vertical-align: top;\n",
       "    }\n",
       "\n",
       "    .dataframe thead th {\n",
       "        text-align: right;\n",
       "    }\n",
       "</style>\n",
       "<table border=\"1\" class=\"dataframe\">\n",
       "  <thead>\n",
       "    <tr style=\"text-align: right;\">\n",
       "      <th></th>\n",
       "      <th>duration_sec</th>\n",
       "      <th>start_time</th>\n",
       "      <th>end_time</th>\n",
       "      <th>start_station_id</th>\n",
       "      <th>start_station_name</th>\n",
       "      <th>start_station_latitude</th>\n",
       "      <th>start_station_longitude</th>\n",
       "      <th>end_station_id</th>\n",
       "      <th>end_station_name</th>\n",
       "      <th>end_station_latitude</th>\n",
       "      <th>end_station_longitude</th>\n",
       "      <th>bike_id</th>\n",
       "      <th>user_type</th>\n",
       "      <th>member_birth_year</th>\n",
       "      <th>member_gender</th>\n",
       "      <th>bike_share_for_all_trip</th>\n",
       "    </tr>\n",
       "  </thead>\n",
       "  <tbody>\n",
       "    <tr>\n",
       "      <th>89278</th>\n",
       "      <td>403</td>\n",
       "      <td>2019-02-16 15:54:09.934</td>\n",
       "      <td>2019-02-16 16:00:53.512</td>\n",
       "      <td>125.0</td>\n",
       "      <td>20th St at Bryant St</td>\n",
       "      <td>37.759200</td>\n",
       "      <td>-122.409851</td>\n",
       "      <td>116.0</td>\n",
       "      <td>Mississippi St at 17th St</td>\n",
       "      <td>37.764802</td>\n",
       "      <td>-122.394771</td>\n",
       "      <td>6524</td>\n",
       "      <td>Subscriber</td>\n",
       "      <td>1977</td>\n",
       "      <td>Male</td>\n",
       "      <td>No</td>\n",
       "    </tr>\n",
       "    <tr>\n",
       "      <th>44528</th>\n",
       "      <td>628</td>\n",
       "      <td>2019-02-22 14:26:55.442</td>\n",
       "      <td>2019-02-22 14:37:24.286</td>\n",
       "      <td>296.0</td>\n",
       "      <td>5th St at Virginia St</td>\n",
       "      <td>37.325998</td>\n",
       "      <td>-121.877120</td>\n",
       "      <td>280.0</td>\n",
       "      <td>San Fernando St at 7th St</td>\n",
       "      <td>37.337122</td>\n",
       "      <td>-121.883215</td>\n",
       "      <td>6632</td>\n",
       "      <td>Subscriber</td>\n",
       "      <td>1996</td>\n",
       "      <td>Female</td>\n",
       "      <td>Yes</td>\n",
       "    </tr>\n",
       "    <tr>\n",
       "      <th>118604</th>\n",
       "      <td>386</td>\n",
       "      <td>2019-02-11 18:43:55.215</td>\n",
       "      <td>2019-02-11 18:50:21.797</td>\n",
       "      <td>182.0</td>\n",
       "      <td>19th Street BART Station</td>\n",
       "      <td>37.809013</td>\n",
       "      <td>-122.268247</td>\n",
       "      <td>195.0</td>\n",
       "      <td>Bay Pl at Vernon St</td>\n",
       "      <td>37.812314</td>\n",
       "      <td>-122.260779</td>\n",
       "      <td>5512</td>\n",
       "      <td>Subscriber</td>\n",
       "      <td>1990</td>\n",
       "      <td>Female</td>\n",
       "      <td>Yes</td>\n",
       "    </tr>\n",
       "    <tr>\n",
       "      <th>18820</th>\n",
       "      <td>1443</td>\n",
       "      <td>2019-02-26 17:38:59.510</td>\n",
       "      <td>2019-02-26 18:03:03.349</td>\n",
       "      <td>197.0</td>\n",
       "      <td>El Embarcadero at Grand Ave</td>\n",
       "      <td>37.808848</td>\n",
       "      <td>-122.249680</td>\n",
       "      <td>273.0</td>\n",
       "      <td>Fulton St at Ashby Ave</td>\n",
       "      <td>37.855574</td>\n",
       "      <td>-122.263565</td>\n",
       "      <td>3399</td>\n",
       "      <td>Subscriber</td>\n",
       "      <td>1989</td>\n",
       "      <td>Male</td>\n",
       "      <td>No</td>\n",
       "    </tr>\n",
       "    <tr>\n",
       "      <th>96877</th>\n",
       "      <td>525</td>\n",
       "      <td>2019-02-15 09:36:06.110</td>\n",
       "      <td>2019-02-15 09:44:51.233</td>\n",
       "      <td>75.0</td>\n",
       "      <td>Market St at Franklin St</td>\n",
       "      <td>37.773793</td>\n",
       "      <td>-122.421239</td>\n",
       "      <td>5.0</td>\n",
       "      <td>Powell St BART Station (Market St at 5th St)</td>\n",
       "      <td>37.783899</td>\n",
       "      <td>-122.408445</td>\n",
       "      <td>2429</td>\n",
       "      <td>Subscriber</td>\n",
       "      <td>1985</td>\n",
       "      <td>Male</td>\n",
       "      <td>No</td>\n",
       "    </tr>\n",
       "  </tbody>\n",
       "</table>\n",
       "</div>\n",
       "      <button class=\"colab-df-convert\" onclick=\"convertToInteractive('df-ef8d526b-be19-4639-b8ff-2e97458b2ea4')\"\n",
       "              title=\"Convert this dataframe to an interactive table.\"\n",
       "              style=\"display:none;\">\n",
       "        \n",
       "  <svg xmlns=\"http://www.w3.org/2000/svg\" height=\"24px\"viewBox=\"0 0 24 24\"\n",
       "       width=\"24px\">\n",
       "    <path d=\"M0 0h24v24H0V0z\" fill=\"none\"/>\n",
       "    <path d=\"M18.56 5.44l.94 2.06.94-2.06 2.06-.94-2.06-.94-.94-2.06-.94 2.06-2.06.94zm-11 1L8.5 8.5l.94-2.06 2.06-.94-2.06-.94L8.5 2.5l-.94 2.06-2.06.94zm10 10l.94 2.06.94-2.06 2.06-.94-2.06-.94-.94-2.06-.94 2.06-2.06.94z\"/><path d=\"M17.41 7.96l-1.37-1.37c-.4-.4-.92-.59-1.43-.59-.52 0-1.04.2-1.43.59L10.3 9.45l-7.72 7.72c-.78.78-.78 2.05 0 2.83L4 21.41c.39.39.9.59 1.41.59.51 0 1.02-.2 1.41-.59l7.78-7.78 2.81-2.81c.8-.78.8-2.07 0-2.86zM5.41 20L4 18.59l7.72-7.72 1.47 1.35L5.41 20z\"/>\n",
       "  </svg>\n",
       "      </button>\n",
       "      \n",
       "  <style>\n",
       "    .colab-df-container {\n",
       "      display:flex;\n",
       "      flex-wrap:wrap;\n",
       "      gap: 12px;\n",
       "    }\n",
       "\n",
       "    .colab-df-convert {\n",
       "      background-color: #E8F0FE;\n",
       "      border: none;\n",
       "      border-radius: 50%;\n",
       "      cursor: pointer;\n",
       "      display: none;\n",
       "      fill: #1967D2;\n",
       "      height: 32px;\n",
       "      padding: 0 0 0 0;\n",
       "      width: 32px;\n",
       "    }\n",
       "\n",
       "    .colab-df-convert:hover {\n",
       "      background-color: #E2EBFA;\n",
       "      box-shadow: 0px 1px 2px rgba(60, 64, 67, 0.3), 0px 1px 3px 1px rgba(60, 64, 67, 0.15);\n",
       "      fill: #174EA6;\n",
       "    }\n",
       "\n",
       "    [theme=dark] .colab-df-convert {\n",
       "      background-color: #3B4455;\n",
       "      fill: #D2E3FC;\n",
       "    }\n",
       "\n",
       "    [theme=dark] .colab-df-convert:hover {\n",
       "      background-color: #434B5C;\n",
       "      box-shadow: 0px 1px 3px 1px rgba(0, 0, 0, 0.15);\n",
       "      filter: drop-shadow(0px 1px 2px rgba(0, 0, 0, 0.3));\n",
       "      fill: #FFFFFF;\n",
       "    }\n",
       "  </style>\n",
       "\n",
       "      <script>\n",
       "        const buttonEl =\n",
       "          document.querySelector('#df-ef8d526b-be19-4639-b8ff-2e97458b2ea4 button.colab-df-convert');\n",
       "        buttonEl.style.display =\n",
       "          google.colab.kernel.accessAllowed ? 'block' : 'none';\n",
       "\n",
       "        async function convertToInteractive(key) {\n",
       "          const element = document.querySelector('#df-ef8d526b-be19-4639-b8ff-2e97458b2ea4');\n",
       "          const dataTable =\n",
       "            await google.colab.kernel.invokeFunction('convertToInteractive',\n",
       "                                                     [key], {});\n",
       "          if (!dataTable) return;\n",
       "\n",
       "          const docLinkHtml = 'Like what you see? Visit the ' +\n",
       "            '<a target=\"_blank\" href=https://colab.research.google.com/notebooks/data_table.ipynb>data table notebook</a>'\n",
       "            + ' to learn more about interactive tables.';\n",
       "          element.innerHTML = '';\n",
       "          dataTable['output_type'] = 'display_data';\n",
       "          await google.colab.output.renderOutput(dataTable, element);\n",
       "          const docLink = document.createElement('div');\n",
       "          docLink.innerHTML = docLinkHtml;\n",
       "          element.appendChild(docLink);\n",
       "        }\n",
       "      </script>\n",
       "    </div>\n",
       "  </div>\n",
       "  "
      ],
      "text/plain": [
       "        duration_sec              start_time                end_time  \\\n",
       "89278            403 2019-02-16 15:54:09.934 2019-02-16 16:00:53.512   \n",
       "44528            628 2019-02-22 14:26:55.442 2019-02-22 14:37:24.286   \n",
       "118604           386 2019-02-11 18:43:55.215 2019-02-11 18:50:21.797   \n",
       "18820           1443 2019-02-26 17:38:59.510 2019-02-26 18:03:03.349   \n",
       "96877            525 2019-02-15 09:36:06.110 2019-02-15 09:44:51.233   \n",
       "\n",
       "        start_station_id           start_station_name  start_station_latitude  \\\n",
       "89278              125.0         20th St at Bryant St               37.759200   \n",
       "44528              296.0        5th St at Virginia St               37.325998   \n",
       "118604             182.0     19th Street BART Station               37.809013   \n",
       "18820              197.0  El Embarcadero at Grand Ave               37.808848   \n",
       "96877               75.0     Market St at Franklin St               37.773793   \n",
       "\n",
       "        start_station_longitude  end_station_id  \\\n",
       "89278               -122.409851           116.0   \n",
       "44528               -121.877120           280.0   \n",
       "118604              -122.268247           195.0   \n",
       "18820               -122.249680           273.0   \n",
       "96877               -122.421239             5.0   \n",
       "\n",
       "                                    end_station_name  end_station_latitude  \\\n",
       "89278                      Mississippi St at 17th St             37.764802   \n",
       "44528                      San Fernando St at 7th St             37.337122   \n",
       "118604                           Bay Pl at Vernon St             37.812314   \n",
       "18820                         Fulton St at Ashby Ave             37.855574   \n",
       "96877   Powell St BART Station (Market St at 5th St)             37.783899   \n",
       "\n",
       "        end_station_longitude  bike_id   user_type  member_birth_year  \\\n",
       "89278             -122.394771     6524  Subscriber               1977   \n",
       "44528             -121.883215     6632  Subscriber               1996   \n",
       "118604            -122.260779     5512  Subscriber               1990   \n",
       "18820             -122.263565     3399  Subscriber               1989   \n",
       "96877             -122.408445     2429  Subscriber               1985   \n",
       "\n",
       "       member_gender bike_share_for_all_trip  \n",
       "89278           Male                      No  \n",
       "44528         Female                     Yes  \n",
       "118604        Female                     Yes  \n",
       "18820           Male                      No  \n",
       "96877           Male                      No  "
      ]
     },
     "execution_count": 20,
     "metadata": {},
     "output_type": "execute_result"
    }
   ],
   "source": [
    "bikes_clean.sample(5)"
   ]
  },
  {
   "cell_type": "code",
   "execution_count": 65,
   "metadata": {
    "id": "N-jChCoOShfY"
   },
   "outputs": [],
   "source": [
    "bikes_clean['month'] = pd.to_datetime(bikes_clean['start_time']).dt.month_name()\n",
    "bikes_clean['day'] = pd.to_datetime(bikes_clean['start_time']).dt.day_name()\n",
    "bikes_clean['hour_of_day'] = pd.to_datetime(bikes_clean['start_time']).dt.hour"
   ]
  },
  {
   "cell_type": "code",
   "execution_count": 66,
   "metadata": {
    "id": "7wJs4_kT4tDs"
   },
   "outputs": [],
   "source": [
    "bikes_clean['duration_in_min'] = ((bikes_clean.duration_sec) /60)"
   ]
  },
  {
   "cell_type": "code",
   "execution_count": 13,
   "metadata": {
    "colab": {
     "base_uri": "https://localhost:8080/",
     "height": 392
    },
    "id": "EYXm_qycaLlB",
    "outputId": "87860032-7dd1-4f06-d212-0b6bac9878d2"
   },
   "outputs": [
    {
     "data": {
      "text/html": [
       "\n",
       "  <div id=\"df-e837a986-00c0-4133-ad49-3d0a52dfe7a7\">\n",
       "    <div class=\"colab-df-container\">\n",
       "      <div>\n",
       "<style scoped>\n",
       "    .dataframe tbody tr th:only-of-type {\n",
       "        vertical-align: middle;\n",
       "    }\n",
       "\n",
       "    .dataframe tbody tr th {\n",
       "        vertical-align: top;\n",
       "    }\n",
       "\n",
       "    .dataframe thead th {\n",
       "        text-align: right;\n",
       "    }\n",
       "</style>\n",
       "<table border=\"1\" class=\"dataframe\">\n",
       "  <thead>\n",
       "    <tr style=\"text-align: right;\">\n",
       "      <th></th>\n",
       "      <th>duration_sec</th>\n",
       "      <th>start_time</th>\n",
       "      <th>end_time</th>\n",
       "      <th>start_station_id</th>\n",
       "      <th>start_station_name</th>\n",
       "      <th>start_station_latitude</th>\n",
       "      <th>start_station_longitude</th>\n",
       "      <th>end_station_id</th>\n",
       "      <th>end_station_name</th>\n",
       "      <th>end_station_latitude</th>\n",
       "      <th>end_station_longitude</th>\n",
       "      <th>bike_id</th>\n",
       "      <th>user_type</th>\n",
       "      <th>member_birth_year</th>\n",
       "      <th>member_gender</th>\n",
       "      <th>bike_share_for_all_trip</th>\n",
       "      <th>month</th>\n",
       "      <th>day</th>\n",
       "      <th>hour_of_day</th>\n",
       "      <th>duration_in_min</th>\n",
       "    </tr>\n",
       "  </thead>\n",
       "  <tbody>\n",
       "    <tr>\n",
       "      <th>0</th>\n",
       "      <td>52185</td>\n",
       "      <td>2019-02-28 17:32:10.145</td>\n",
       "      <td>2019-03-01 08:01:55.975</td>\n",
       "      <td>21.0</td>\n",
       "      <td>Montgomery St BART Station (Market St at 2nd St)</td>\n",
       "      <td>37.789625</td>\n",
       "      <td>-122.400811</td>\n",
       "      <td>13.0</td>\n",
       "      <td>Commercial St at Montgomery St</td>\n",
       "      <td>37.794231</td>\n",
       "      <td>-122.402923</td>\n",
       "      <td>4902</td>\n",
       "      <td>Customer</td>\n",
       "      <td>1984</td>\n",
       "      <td>Male</td>\n",
       "      <td>No</td>\n",
       "      <td>February</td>\n",
       "      <td>Thursday</td>\n",
       "      <td>17</td>\n",
       "      <td>869.750000</td>\n",
       "    </tr>\n",
       "    <tr>\n",
       "      <th>1</th>\n",
       "      <td>42521</td>\n",
       "      <td>2019-02-28 18:53:21.789</td>\n",
       "      <td>2019-03-01 06:42:03.056</td>\n",
       "      <td>23.0</td>\n",
       "      <td>The Embarcadero at Steuart St</td>\n",
       "      <td>37.791464</td>\n",
       "      <td>-122.391034</td>\n",
       "      <td>81.0</td>\n",
       "      <td>Berry St at 4th St</td>\n",
       "      <td>37.775880</td>\n",
       "      <td>-122.393170</td>\n",
       "      <td>2535</td>\n",
       "      <td>Customer</td>\n",
       "      <td>0</td>\n",
       "      <td>0</td>\n",
       "      <td>No</td>\n",
       "      <td>February</td>\n",
       "      <td>Thursday</td>\n",
       "      <td>18</td>\n",
       "      <td>708.683333</td>\n",
       "    </tr>\n",
       "    <tr>\n",
       "      <th>2</th>\n",
       "      <td>61854</td>\n",
       "      <td>2019-02-28 12:13:13.218</td>\n",
       "      <td>2019-03-01 05:24:08.146</td>\n",
       "      <td>86.0</td>\n",
       "      <td>Market St at Dolores St</td>\n",
       "      <td>37.769305</td>\n",
       "      <td>-122.426826</td>\n",
       "      <td>3.0</td>\n",
       "      <td>Powell St BART Station (Market St at 4th St)</td>\n",
       "      <td>37.786375</td>\n",
       "      <td>-122.404904</td>\n",
       "      <td>5905</td>\n",
       "      <td>Customer</td>\n",
       "      <td>1972</td>\n",
       "      <td>Male</td>\n",
       "      <td>No</td>\n",
       "      <td>February</td>\n",
       "      <td>Thursday</td>\n",
       "      <td>12</td>\n",
       "      <td>1030.900000</td>\n",
       "    </tr>\n",
       "    <tr>\n",
       "      <th>3</th>\n",
       "      <td>36490</td>\n",
       "      <td>2019-02-28 17:54:26.010</td>\n",
       "      <td>2019-03-01 04:02:36.842</td>\n",
       "      <td>375.0</td>\n",
       "      <td>Grove St at Masonic Ave</td>\n",
       "      <td>37.774836</td>\n",
       "      <td>-122.446546</td>\n",
       "      <td>70.0</td>\n",
       "      <td>Central Ave at Fell St</td>\n",
       "      <td>37.773311</td>\n",
       "      <td>-122.444293</td>\n",
       "      <td>6638</td>\n",
       "      <td>Subscriber</td>\n",
       "      <td>1989</td>\n",
       "      <td>Other</td>\n",
       "      <td>No</td>\n",
       "      <td>February</td>\n",
       "      <td>Thursday</td>\n",
       "      <td>17</td>\n",
       "      <td>608.166667</td>\n",
       "    </tr>\n",
       "    <tr>\n",
       "      <th>4</th>\n",
       "      <td>1585</td>\n",
       "      <td>2019-02-28 23:54:18.549</td>\n",
       "      <td>2019-03-01 00:20:44.074</td>\n",
       "      <td>7.0</td>\n",
       "      <td>Frank H Ogawa Plaza</td>\n",
       "      <td>37.804562</td>\n",
       "      <td>-122.271738</td>\n",
       "      <td>222.0</td>\n",
       "      <td>10th Ave at E 15th St</td>\n",
       "      <td>37.792714</td>\n",
       "      <td>-122.248780</td>\n",
       "      <td>4898</td>\n",
       "      <td>Subscriber</td>\n",
       "      <td>1974</td>\n",
       "      <td>Male</td>\n",
       "      <td>Yes</td>\n",
       "      <td>February</td>\n",
       "      <td>Thursday</td>\n",
       "      <td>23</td>\n",
       "      <td>26.416667</td>\n",
       "    </tr>\n",
       "  </tbody>\n",
       "</table>\n",
       "</div>\n",
       "      <button class=\"colab-df-convert\" onclick=\"convertToInteractive('df-e837a986-00c0-4133-ad49-3d0a52dfe7a7')\"\n",
       "              title=\"Convert this dataframe to an interactive table.\"\n",
       "              style=\"display:none;\">\n",
       "        \n",
       "  <svg xmlns=\"http://www.w3.org/2000/svg\" height=\"24px\"viewBox=\"0 0 24 24\"\n",
       "       width=\"24px\">\n",
       "    <path d=\"M0 0h24v24H0V0z\" fill=\"none\"/>\n",
       "    <path d=\"M18.56 5.44l.94 2.06.94-2.06 2.06-.94-2.06-.94-.94-2.06-.94 2.06-2.06.94zm-11 1L8.5 8.5l.94-2.06 2.06-.94-2.06-.94L8.5 2.5l-.94 2.06-2.06.94zm10 10l.94 2.06.94-2.06 2.06-.94-2.06-.94-.94-2.06-.94 2.06-2.06.94z\"/><path d=\"M17.41 7.96l-1.37-1.37c-.4-.4-.92-.59-1.43-.59-.52 0-1.04.2-1.43.59L10.3 9.45l-7.72 7.72c-.78.78-.78 2.05 0 2.83L4 21.41c.39.39.9.59 1.41.59.51 0 1.02-.2 1.41-.59l7.78-7.78 2.81-2.81c.8-.78.8-2.07 0-2.86zM5.41 20L4 18.59l7.72-7.72 1.47 1.35L5.41 20z\"/>\n",
       "  </svg>\n",
       "      </button>\n",
       "      \n",
       "  <style>\n",
       "    .colab-df-container {\n",
       "      display:flex;\n",
       "      flex-wrap:wrap;\n",
       "      gap: 12px;\n",
       "    }\n",
       "\n",
       "    .colab-df-convert {\n",
       "      background-color: #E8F0FE;\n",
       "      border: none;\n",
       "      border-radius: 50%;\n",
       "      cursor: pointer;\n",
       "      display: none;\n",
       "      fill: #1967D2;\n",
       "      height: 32px;\n",
       "      padding: 0 0 0 0;\n",
       "      width: 32px;\n",
       "    }\n",
       "\n",
       "    .colab-df-convert:hover {\n",
       "      background-color: #E2EBFA;\n",
       "      box-shadow: 0px 1px 2px rgba(60, 64, 67, 0.3), 0px 1px 3px 1px rgba(60, 64, 67, 0.15);\n",
       "      fill: #174EA6;\n",
       "    }\n",
       "\n",
       "    [theme=dark] .colab-df-convert {\n",
       "      background-color: #3B4455;\n",
       "      fill: #D2E3FC;\n",
       "    }\n",
       "\n",
       "    [theme=dark] .colab-df-convert:hover {\n",
       "      background-color: #434B5C;\n",
       "      box-shadow: 0px 1px 3px 1px rgba(0, 0, 0, 0.15);\n",
       "      filter: drop-shadow(0px 1px 2px rgba(0, 0, 0, 0.3));\n",
       "      fill: #FFFFFF;\n",
       "    }\n",
       "  </style>\n",
       "\n",
       "      <script>\n",
       "        const buttonEl =\n",
       "          document.querySelector('#df-e837a986-00c0-4133-ad49-3d0a52dfe7a7 button.colab-df-convert');\n",
       "        buttonEl.style.display =\n",
       "          google.colab.kernel.accessAllowed ? 'block' : 'none';\n",
       "\n",
       "        async function convertToInteractive(key) {\n",
       "          const element = document.querySelector('#df-e837a986-00c0-4133-ad49-3d0a52dfe7a7');\n",
       "          const dataTable =\n",
       "            await google.colab.kernel.invokeFunction('convertToInteractive',\n",
       "                                                     [key], {});\n",
       "          if (!dataTable) return;\n",
       "\n",
       "          const docLinkHtml = 'Like what you see? Visit the ' +\n",
       "            '<a target=\"_blank\" href=https://colab.research.google.com/notebooks/data_table.ipynb>data table notebook</a>'\n",
       "            + ' to learn more about interactive tables.';\n",
       "          element.innerHTML = '';\n",
       "          dataTable['output_type'] = 'display_data';\n",
       "          await google.colab.output.renderOutput(dataTable, element);\n",
       "          const docLink = document.createElement('div');\n",
       "          docLink.innerHTML = docLinkHtml;\n",
       "          element.appendChild(docLink);\n",
       "        }\n",
       "      </script>\n",
       "    </div>\n",
       "  </div>\n",
       "  "
      ],
      "text/plain": [
       "   duration_sec              start_time                end_time  \\\n",
       "0         52185 2019-02-28 17:32:10.145 2019-03-01 08:01:55.975   \n",
       "1         42521 2019-02-28 18:53:21.789 2019-03-01 06:42:03.056   \n",
       "2         61854 2019-02-28 12:13:13.218 2019-03-01 05:24:08.146   \n",
       "3         36490 2019-02-28 17:54:26.010 2019-03-01 04:02:36.842   \n",
       "4          1585 2019-02-28 23:54:18.549 2019-03-01 00:20:44.074   \n",
       "\n",
       "   start_station_id                                start_station_name  \\\n",
       "0              21.0  Montgomery St BART Station (Market St at 2nd St)   \n",
       "1              23.0                     The Embarcadero at Steuart St   \n",
       "2              86.0                           Market St at Dolores St   \n",
       "3             375.0                           Grove St at Masonic Ave   \n",
       "4               7.0                               Frank H Ogawa Plaza   \n",
       "\n",
       "   start_station_latitude  start_station_longitude  end_station_id  \\\n",
       "0               37.789625              -122.400811            13.0   \n",
       "1               37.791464              -122.391034            81.0   \n",
       "2               37.769305              -122.426826             3.0   \n",
       "3               37.774836              -122.446546            70.0   \n",
       "4               37.804562              -122.271738           222.0   \n",
       "\n",
       "                               end_station_name  end_station_latitude  \\\n",
       "0                Commercial St at Montgomery St             37.794231   \n",
       "1                            Berry St at 4th St             37.775880   \n",
       "2  Powell St BART Station (Market St at 4th St)             37.786375   \n",
       "3                        Central Ave at Fell St             37.773311   \n",
       "4                         10th Ave at E 15th St             37.792714   \n",
       "\n",
       "   end_station_longitude  bike_id   user_type  member_birth_year  \\\n",
       "0            -122.402923     4902    Customer               1984   \n",
       "1            -122.393170     2535    Customer                  0   \n",
       "2            -122.404904     5905    Customer               1972   \n",
       "3            -122.444293     6638  Subscriber               1989   \n",
       "4            -122.248780     4898  Subscriber               1974   \n",
       "\n",
       "  member_gender bike_share_for_all_trip     month       day  hour_of_day  \\\n",
       "0          Male                      No  February  Thursday           17   \n",
       "1             0                      No  February  Thursday           18   \n",
       "2          Male                      No  February  Thursday           12   \n",
       "3         Other                      No  February  Thursday           17   \n",
       "4          Male                     Yes  February  Thursday           23   \n",
       "\n",
       "   duration_in_min  \n",
       "0       869.750000  \n",
       "1       708.683333  \n",
       "2      1030.900000  \n",
       "3       608.166667  \n",
       "4        26.416667  "
      ]
     },
     "execution_count": 13,
     "metadata": {},
     "output_type": "execute_result"
    }
   ],
   "source": [
    "bikes_clean.head()"
   ]
  },
  {
   "cell_type": "code",
   "execution_count": 14,
   "metadata": {
    "colab": {
     "base_uri": "https://localhost:8080/"
    },
    "id": "LfRMIW9yiUZk",
    "outputId": "df4728d5-f192-4aed-a30e-c9c37dad5e3a"
   },
   "outputs": [
    {
     "data": {
      "text/plain": [
       "February    183412\n",
       "Name: month, dtype: int64"
      ]
     },
     "execution_count": 14,
     "metadata": {},
     "output_type": "execute_result"
    }
   ],
   "source": [
    "bikes_clean.month.value_counts()"
   ]
  },
  {
   "cell_type": "markdown",
   "metadata": {
    "id": "fXDeHISmibzQ"
   },
   "source": [
    "This shows that the dataset only contains the usage from the month of February"
   ]
  },
  {
   "cell_type": "code",
   "execution_count": null,
   "metadata": {
    "colab": {
     "base_uri": "https://localhost:8080/"
    },
    "id": "TSmZjH_SSK5X",
    "outputId": "a97e4ad7-c512-427f-875e-a9a14ab24079"
   },
   "outputs": [
    {
     "name": "stdout",
     "output_type": "stream",
     "text": [
      "<class 'pandas.core.frame.DataFrame'>\n",
      "RangeIndex: 183412 entries, 0 to 183411\n",
      "Data columns (total 20 columns):\n",
      " #   Column                   Non-Null Count   Dtype         \n",
      "---  ------                   --------------   -----         \n",
      " 0   duration_sec             183412 non-null  int64         \n",
      " 1   start_time               183412 non-null  datetime64[ns]\n",
      " 2   end_time                 183412 non-null  datetime64[ns]\n",
      " 3   start_station_id         183412 non-null  float64       \n",
      " 4   start_station_name       183412 non-null  object        \n",
      " 5   start_station_latitude   183412 non-null  float64       \n",
      " 6   start_station_longitude  183412 non-null  float64       \n",
      " 7   end_station_id           183412 non-null  float64       \n",
      " 8   end_station_name         183412 non-null  object        \n",
      " 9   end_station_latitude     183412 non-null  float64       \n",
      " 10  end_station_longitude    183412 non-null  float64       \n",
      " 11  bike_id                  183412 non-null  int64         \n",
      " 12  user_type                183412 non-null  category      \n",
      " 13  member_birth_year        183412 non-null  int64         \n",
      " 14  member_gender            183412 non-null  object        \n",
      " 15  bike_share_for_all_trip  183412 non-null  object        \n",
      " 16  month                    183412 non-null  object        \n",
      " 17  day                      183412 non-null  object        \n",
      " 18  hour_of_day              183412 non-null  int64         \n",
      " 19  duration_in_min          183412 non-null  float64       \n",
      "dtypes: category(1), datetime64[ns](2), float64(7), int64(4), object(6)\n",
      "memory usage: 26.8+ MB\n"
     ]
    }
   ],
   "source": [
    "bikes_clean.info()"
   ]
  },
  {
   "cell_type": "markdown",
   "metadata": {
    "id": "vU9-mfzFbHrs"
   },
   "source": [
    "##What is the structure of the Dataset ?\n",
    "\n",
    "This Dataset contains 183,412 rows and 13 columns. It features duration time in seconds with start time and end time, features location of the ride in longtitude and latitude, features the specifics of bike used, and the customer engagements\n",
    "\n",
    "## What are the main features of interest in the dataset ?\n",
    "\n",
    "The main features of interest in this dataset is duration_sec, start_time, and user_type column.\n",
    "\n",
    "## What features do you think would help your investigation into your features of interest ?\n",
    "\n",
    "1. User Type\n",
    "2. Duration of Trip\n",
    "3. Day of Trips\n",
    "\n",
    "\n"
   ]
  },
  {
   "cell_type": "markdown",
   "metadata": {
    "id": "-yC09g2oReBv"
   },
   "source": [
    "##Exploratory Analysis"
   ]
  },
  {
   "cell_type": "code",
   "execution_count": null,
   "metadata": {
    "colab": {
     "base_uri": "https://localhost:8080/",
     "height": 364
    },
    "id": "T3xPu4IKRmS5",
    "outputId": "ed95f251-6574-4784-cc4f-d9be50684430"
   },
   "outputs": [
    {
     "data": {
      "text/html": [
       "\n",
       "  <div id=\"df-89799241-7398-49ed-ae93-2b48de50252b\">\n",
       "    <div class=\"colab-df-container\">\n",
       "      <div>\n",
       "<style scoped>\n",
       "    .dataframe tbody tr th:only-of-type {\n",
       "        vertical-align: middle;\n",
       "    }\n",
       "\n",
       "    .dataframe tbody tr th {\n",
       "        vertical-align: top;\n",
       "    }\n",
       "\n",
       "    .dataframe thead th {\n",
       "        text-align: right;\n",
       "    }\n",
       "</style>\n",
       "<table border=\"1\" class=\"dataframe\">\n",
       "  <thead>\n",
       "    <tr style=\"text-align: right;\">\n",
       "      <th></th>\n",
       "      <th>duration_sec</th>\n",
       "      <th>start_station_id</th>\n",
       "      <th>start_station_latitude</th>\n",
       "      <th>start_station_longitude</th>\n",
       "      <th>end_station_id</th>\n",
       "      <th>end_station_latitude</th>\n",
       "      <th>end_station_longitude</th>\n",
       "      <th>bike_id</th>\n",
       "      <th>member_birth_year</th>\n",
       "      <th>hour_of_day</th>\n",
       "      <th>duration_in_min</th>\n",
       "    </tr>\n",
       "  </thead>\n",
       "  <tbody>\n",
       "    <tr>\n",
       "      <th>count</th>\n",
       "      <td>183412.000000</td>\n",
       "      <td>183412.000000</td>\n",
       "      <td>183412.000000</td>\n",
       "      <td>183412.000000</td>\n",
       "      <td>183412.000000</td>\n",
       "      <td>183412.000000</td>\n",
       "      <td>183412.000000</td>\n",
       "      <td>183412.000000</td>\n",
       "      <td>183412.000000</td>\n",
       "      <td>183412.000000</td>\n",
       "      <td>183412.000000</td>\n",
       "    </tr>\n",
       "    <tr>\n",
       "      <th>mean</th>\n",
       "      <td>726.078435</td>\n",
       "      <td>138.441569</td>\n",
       "      <td>37.771223</td>\n",
       "      <td>-122.352664</td>\n",
       "      <td>136.102780</td>\n",
       "      <td>37.771427</td>\n",
       "      <td>-122.352250</td>\n",
       "      <td>4472.906375</td>\n",
       "      <td>1895.366132</td>\n",
       "      <td>13.458421</td>\n",
       "      <td>12.101307</td>\n",
       "    </tr>\n",
       "    <tr>\n",
       "      <th>std</th>\n",
       "      <td>1794.389780</td>\n",
       "      <td>111.811012</td>\n",
       "      <td>0.099581</td>\n",
       "      <td>0.117097</td>\n",
       "      <td>111.544544</td>\n",
       "      <td>0.099490</td>\n",
       "      <td>0.116673</td>\n",
       "      <td>1664.383394</td>\n",
       "      <td>411.850439</td>\n",
       "      <td>4.724978</td>\n",
       "      <td>29.906496</td>\n",
       "    </tr>\n",
       "    <tr>\n",
       "      <th>min</th>\n",
       "      <td>61.000000</td>\n",
       "      <td>0.000000</td>\n",
       "      <td>37.317298</td>\n",
       "      <td>-122.453704</td>\n",
       "      <td>0.000000</td>\n",
       "      <td>37.317298</td>\n",
       "      <td>-122.453704</td>\n",
       "      <td>11.000000</td>\n",
       "      <td>0.000000</td>\n",
       "      <td>0.000000</td>\n",
       "      <td>1.016667</td>\n",
       "    </tr>\n",
       "    <tr>\n",
       "      <th>25%</th>\n",
       "      <td>325.000000</td>\n",
       "      <td>47.000000</td>\n",
       "      <td>37.770083</td>\n",
       "      <td>-122.412408</td>\n",
       "      <td>44.000000</td>\n",
       "      <td>37.770407</td>\n",
       "      <td>-122.411726</td>\n",
       "      <td>3777.000000</td>\n",
       "      <td>1979.000000</td>\n",
       "      <td>9.000000</td>\n",
       "      <td>5.416667</td>\n",
       "    </tr>\n",
       "    <tr>\n",
       "      <th>50%</th>\n",
       "      <td>514.000000</td>\n",
       "      <td>104.000000</td>\n",
       "      <td>37.780760</td>\n",
       "      <td>-122.398285</td>\n",
       "      <td>100.000000</td>\n",
       "      <td>37.781010</td>\n",
       "      <td>-122.398279</td>\n",
       "      <td>4958.000000</td>\n",
       "      <td>1987.000000</td>\n",
       "      <td>14.000000</td>\n",
       "      <td>8.566667</td>\n",
       "    </tr>\n",
       "    <tr>\n",
       "      <th>75%</th>\n",
       "      <td>796.000000</td>\n",
       "      <td>239.000000</td>\n",
       "      <td>37.797280</td>\n",
       "      <td>-122.286533</td>\n",
       "      <td>235.000000</td>\n",
       "      <td>37.797320</td>\n",
       "      <td>-122.288045</td>\n",
       "      <td>5502.000000</td>\n",
       "      <td>1992.000000</td>\n",
       "      <td>17.000000</td>\n",
       "      <td>13.266667</td>\n",
       "    </tr>\n",
       "    <tr>\n",
       "      <th>max</th>\n",
       "      <td>85444.000000</td>\n",
       "      <td>398.000000</td>\n",
       "      <td>37.880222</td>\n",
       "      <td>-121.874119</td>\n",
       "      <td>398.000000</td>\n",
       "      <td>37.880222</td>\n",
       "      <td>-121.874119</td>\n",
       "      <td>6645.000000</td>\n",
       "      <td>2001.000000</td>\n",
       "      <td>23.000000</td>\n",
       "      <td>1424.066667</td>\n",
       "    </tr>\n",
       "  </tbody>\n",
       "</table>\n",
       "</div>\n",
       "      <button class=\"colab-df-convert\" onclick=\"convertToInteractive('df-89799241-7398-49ed-ae93-2b48de50252b')\"\n",
       "              title=\"Convert this dataframe to an interactive table.\"\n",
       "              style=\"display:none;\">\n",
       "        \n",
       "  <svg xmlns=\"http://www.w3.org/2000/svg\" height=\"24px\"viewBox=\"0 0 24 24\"\n",
       "       width=\"24px\">\n",
       "    <path d=\"M0 0h24v24H0V0z\" fill=\"none\"/>\n",
       "    <path d=\"M18.56 5.44l.94 2.06.94-2.06 2.06-.94-2.06-.94-.94-2.06-.94 2.06-2.06.94zm-11 1L8.5 8.5l.94-2.06 2.06-.94-2.06-.94L8.5 2.5l-.94 2.06-2.06.94zm10 10l.94 2.06.94-2.06 2.06-.94-2.06-.94-.94-2.06-.94 2.06-2.06.94z\"/><path d=\"M17.41 7.96l-1.37-1.37c-.4-.4-.92-.59-1.43-.59-.52 0-1.04.2-1.43.59L10.3 9.45l-7.72 7.72c-.78.78-.78 2.05 0 2.83L4 21.41c.39.39.9.59 1.41.59.51 0 1.02-.2 1.41-.59l7.78-7.78 2.81-2.81c.8-.78.8-2.07 0-2.86zM5.41 20L4 18.59l7.72-7.72 1.47 1.35L5.41 20z\"/>\n",
       "  </svg>\n",
       "      </button>\n",
       "      \n",
       "  <style>\n",
       "    .colab-df-container {\n",
       "      display:flex;\n",
       "      flex-wrap:wrap;\n",
       "      gap: 12px;\n",
       "    }\n",
       "\n",
       "    .colab-df-convert {\n",
       "      background-color: #E8F0FE;\n",
       "      border: none;\n",
       "      border-radius: 50%;\n",
       "      cursor: pointer;\n",
       "      display: none;\n",
       "      fill: #1967D2;\n",
       "      height: 32px;\n",
       "      padding: 0 0 0 0;\n",
       "      width: 32px;\n",
       "    }\n",
       "\n",
       "    .colab-df-convert:hover {\n",
       "      background-color: #E2EBFA;\n",
       "      box-shadow: 0px 1px 2px rgba(60, 64, 67, 0.3), 0px 1px 3px 1px rgba(60, 64, 67, 0.15);\n",
       "      fill: #174EA6;\n",
       "    }\n",
       "\n",
       "    [theme=dark] .colab-df-convert {\n",
       "      background-color: #3B4455;\n",
       "      fill: #D2E3FC;\n",
       "    }\n",
       "\n",
       "    [theme=dark] .colab-df-convert:hover {\n",
       "      background-color: #434B5C;\n",
       "      box-shadow: 0px 1px 3px 1px rgba(0, 0, 0, 0.15);\n",
       "      filter: drop-shadow(0px 1px 2px rgba(0, 0, 0, 0.3));\n",
       "      fill: #FFFFFF;\n",
       "    }\n",
       "  </style>\n",
       "\n",
       "      <script>\n",
       "        const buttonEl =\n",
       "          document.querySelector('#df-89799241-7398-49ed-ae93-2b48de50252b button.colab-df-convert');\n",
       "        buttonEl.style.display =\n",
       "          google.colab.kernel.accessAllowed ? 'block' : 'none';\n",
       "\n",
       "        async function convertToInteractive(key) {\n",
       "          const element = document.querySelector('#df-89799241-7398-49ed-ae93-2b48de50252b');\n",
       "          const dataTable =\n",
       "            await google.colab.kernel.invokeFunction('convertToInteractive',\n",
       "                                                     [key], {});\n",
       "          if (!dataTable) return;\n",
       "\n",
       "          const docLinkHtml = 'Like what you see? Visit the ' +\n",
       "            '<a target=\"_blank\" href=https://colab.research.google.com/notebooks/data_table.ipynb>data table notebook</a>'\n",
       "            + ' to learn more about interactive tables.';\n",
       "          element.innerHTML = '';\n",
       "          dataTable['output_type'] = 'display_data';\n",
       "          await google.colab.output.renderOutput(dataTable, element);\n",
       "          const docLink = document.createElement('div');\n",
       "          docLink.innerHTML = docLinkHtml;\n",
       "          element.appendChild(docLink);\n",
       "        }\n",
       "      </script>\n",
       "    </div>\n",
       "  </div>\n",
       "  "
      ],
      "text/plain": [
       "        duration_sec  start_station_id  start_station_latitude  \\\n",
       "count  183412.000000     183412.000000           183412.000000   \n",
       "mean      726.078435        138.441569               37.771223   \n",
       "std      1794.389780        111.811012                0.099581   \n",
       "min        61.000000          0.000000               37.317298   \n",
       "25%       325.000000         47.000000               37.770083   \n",
       "50%       514.000000        104.000000               37.780760   \n",
       "75%       796.000000        239.000000               37.797280   \n",
       "max     85444.000000        398.000000               37.880222   \n",
       "\n",
       "       start_station_longitude  end_station_id  end_station_latitude  \\\n",
       "count            183412.000000   183412.000000         183412.000000   \n",
       "mean               -122.352664      136.102780             37.771427   \n",
       "std                   0.117097      111.544544              0.099490   \n",
       "min                -122.453704        0.000000             37.317298   \n",
       "25%                -122.412408       44.000000             37.770407   \n",
       "50%                -122.398285      100.000000             37.781010   \n",
       "75%                -122.286533      235.000000             37.797320   \n",
       "max                -121.874119      398.000000             37.880222   \n",
       "\n",
       "       end_station_longitude        bike_id  member_birth_year    hour_of_day  \\\n",
       "count          183412.000000  183412.000000      183412.000000  183412.000000   \n",
       "mean             -122.352250    4472.906375        1895.366132      13.458421   \n",
       "std                 0.116673    1664.383394         411.850439       4.724978   \n",
       "min              -122.453704      11.000000           0.000000       0.000000   \n",
       "25%              -122.411726    3777.000000        1979.000000       9.000000   \n",
       "50%              -122.398279    4958.000000        1987.000000      14.000000   \n",
       "75%              -122.288045    5502.000000        1992.000000      17.000000   \n",
       "max              -121.874119    6645.000000        2001.000000      23.000000   \n",
       "\n",
       "       duration_in_min  \n",
       "count    183412.000000  \n",
       "mean         12.101307  \n",
       "std          29.906496  \n",
       "min           1.016667  \n",
       "25%           5.416667  \n",
       "50%           8.566667  \n",
       "75%          13.266667  \n",
       "max        1424.066667  "
      ]
     },
     "execution_count": 26,
     "metadata": {},
     "output_type": "execute_result"
    }
   ],
   "source": [
    "bikes_clean.describe()"
   ]
  },
  {
   "cell_type": "code",
   "execution_count": 15,
   "metadata": {
    "id": "z-mSi3eK5nGS"
   },
   "outputs": [],
   "source": [
    "bikes_clean.to_csv('bikes_clean.csv')"
   ]
  },
  {
   "cell_type": "code",
   "execution_count": 67,
   "metadata": {
    "id": "VEtAgvPz6wFr"
   },
   "outputs": [],
   "source": [
    "def myplot(df, xvar, hueVar=None,color=0, order=None ):\n",
    "  #plot dimensions\n",
    "  plt.figure(figsize=(10,7))\n",
    "  #plot\n",
    "  sns.countplot(data=df,x=xvar,hue=hueVar,color=sns.color_palette()[0],order=order,edgecolor='black');\n",
    "  xvar=xvar.replace('_',\" \")\n",
    "  if hueVar:\n",
    "    hueVar=hueVar.replace(\"_\", \" \")\n",
    "  plt.title(f\"Distribution of {xvar} {'by' if hueVar else ''} {hueVar if hueVar else ''} \".title(), fontsize=14, weight = 'bold' )\n",
    "  plt.xlabel(xvar.title(),fontsize = 10, weight = 'bold' )\n",
    "  plt.ylabel('Frequency'.title(), fontsize=10,weight='bold')\n"
   ]
  },
  {
   "cell_type": "markdown",
   "metadata": {
    "id": "ZArf6_3KQZv0"
   },
   "source": [
    "#Univariate Exploration"
   ]
  },
  {
   "cell_type": "markdown",
   "metadata": {
    "id": "dug-_tJvQpNg"
   },
   "source": [
    "##What is the User Count by Percentage ?"
   ]
  },
  {
   "cell_type": "code",
   "execution_count": 34,
   "metadata": {
    "id": "5udZJoX5NSSD"
   },
   "outputs": [],
   "source": [
    "sorted_counts = bikes_clean['user_type'].value_counts()"
   ]
  },
  {
   "cell_type": "code",
   "execution_count": 32,
   "metadata": {
    "colab": {
     "base_uri": "https://localhost:8080/",
     "height": 429
    },
    "id": "YLoyID-rM_gb",
    "outputId": "124ac81f-1bc6-4ff4-ae3b-7e5e368d67be"
   },
   "outputs": [
    {
     "data": {
      "image/png": "[encoded data removed]",
      "text/plain": [
       "<Figure size 720x504 with 1 Axes>"
      ]
     },
     "metadata": {},
     "output_type": "display_data"
    }
   ],
   "source": [
    "#show bike user type percentage\n",
    "plt.figure(figsize=(10,7))\n",
    "plt.pie(sorted_counts, labels = sorted_counts.index, startangle = 90,\n",
    "        counterclock = False, autopct='%1.2f%%');\n",
    "\n",
    "plt.title('Bike User Count Comparison', fontsize=15);"
   ]
  },
  {
   "cell_type": "markdown",
   "metadata": {
    "id": "FtNPJtPOQPbz"
   },
   "source": [
    "There are a lot more subscribers(89.17%) compared to than Customers (10.83%) which means subscribers are much more likely to use the biking system"
   ]
  },
  {
   "cell_type": "code",
   "execution_count": null,
   "metadata": {
    "colab": {
     "base_uri": "https://localhost:8080/",
     "height": 279
    },
    "id": "qacZwqFoPHiL",
    "outputId": "4af80f92-7060-47d8-8c92-9cf512063ebf"
   },
   "outputs": [
    {
     "data": {
      "image/png": "[encoded data removed]",
      "text/plain": [
       "<Figure size 432x288 with 1 Axes>"
      ]
     },
     "metadata": {
      "needs_background": "light"
     },
     "output_type": "display_data"
    }
   ],
   "source": [
    "bins = np.arange(0, bikes_clean['duration_in_min'].max()+1, 1)\n",
    "plt.hist(data = bikes_clean, x = 'duration_in_min', bins = bins)\n",
    "plt.xlim([0,40])\n",
    "\n",
    "plt.xlabel('Frequency of Time Duration in Minutes')\n",
    "plt.show();"
   ]
  },
  {
   "cell_type": "markdown",
   "metadata": {
    "id": "zO_fdk0QRU9W"
   },
   "source": [
    "The distribution is rightly skewed with most of the duration falling in the 5 to 10 minute mark with the maximum minutes being 40 "
   ]
  },
  {
   "cell_type": "markdown",
   "metadata": {
    "id": "P2S3DRLvbsJV"
   },
   "source": [
    "##What is the bike usage based on the day ?"
   ]
  },
  {
   "cell_type": "code",
   "execution_count": 15,
   "metadata": {
    "colab": {
     "base_uri": "https://localhost:8080/"
    },
    "id": "cqo6CJ1Igtbr",
    "outputId": "84577263-a727-40f2-97f8-10de92f0784d"
   },
   "outputs": [
    {
     "data": {
      "text/plain": [
       "Thursday     35197\n",
       "Tuesday      31813\n",
       "Wednesday    29641\n",
       "Friday       28981\n",
       "Monday       26852\n",
       "Sunday       15523\n",
       "Saturday     15405\n",
       "Name: day, dtype: int64"
      ]
     },
     "execution_count": 15,
     "metadata": {},
     "output_type": "execute_result"
    }
   ],
   "source": [
    "bikes_clean['day'].value_counts()"
   ]
  },
  {
   "cell_type": "code",
   "execution_count": 76,
   "metadata": {
    "colab": {
     "base_uri": "https://localhost:8080/",
     "height": 459
    },
    "id": "7BDz2E-XcYbC",
    "outputId": "5f4defce-240e-49ce-f7d4-636e1b0c9f29"
   },
   "outputs": [
    {
     "data": {
      "image/png": "[encoded data removed]",
      "text/plain": [
       "<Figure size 720x504 with 1 Axes>"
      ]
     },
     "metadata": {
      "needs_background": "light"
     },
     "output_type": "display_data"
    }
   ],
   "source": [
    "day_name = [\"Sunday\", \"Monday\",\"Tuesday\",\"Wednesday\",\"Thursday\",\"Friday\",\"Saturday\"]\n",
    "\n",
    "# plt.title('Daily Bike Usage')\n",
    "\n",
    "myplot(bikes_clean,'day',order=day_name)\n",
    "\n",
    "# sns.countplot(data=bikes_clean, x='day', order=day_name, color=base_color);"
   ]
  },
  {
   "cell_type": "markdown",
   "metadata": {
    "id": "Tu8oGc-CJxMF"
   },
   "source": [
    "The bikes seem to mostly be used during the weekdays and less on weekends"
   ]
  },
  {
   "cell_type": "code",
   "execution_count": 72,
   "metadata": {
    "colab": {
     "base_uri": "https://localhost:8080/",
     "height": 459
    },
    "id": "3Qt0mfvfkujZ",
    "outputId": "c039a3d1-959f-4f50-ad5e-bc7b964d5f99"
   },
   "outputs": [
    {
     "data": {
      "image/png": "[encoded data removed]",
      "text/plain": [
       "<Figure size 720x504 with 1 Axes>"
      ]
     },
     "metadata": {
      "needs_background": "light"
     },
     "output_type": "display_data"
    }
   ],
   "source": [
    "myplot(bikes_clean,'hour_of_day',order=hour_order)"
   ]
  },
  {
   "cell_type": "markdown",
   "metadata": {
    "id": "gIpIN4uQJ5Aj"
   },
   "source": [
    "The trips seem to be at peak hours of the day"
   ]
  },
  {
   "cell_type": "code",
   "execution_count": 75,
   "metadata": {
    "colab": {
     "base_uri": "https://localhost:8080/",
     "height": 459
    },
    "id": "b0u03Wp0mJRh",
    "outputId": "fd1b5c81-c84a-41c8-a844-d3530afd211b"
   },
   "outputs": [
    {
     "data": {
      "image/png": "[encoded data removed]",
      "text/plain": [
       "<Figure size 720x504 with 1 Axes>"
      ]
     },
     "metadata": {
      "needs_background": "light"
     },
     "output_type": "display_data"
    }
   ],
   "source": [
    "myplot(bikes_clean,'bike_share_for_all_trip')"
   ]
  },
  {
   "cell_type": "markdown",
   "metadata": {
    "id": "Rc-uZReTx-_O"
   },
   "source": [
    "Looks like Users do not often share their trips when they use the bikes"
   ]
  },
  {
   "cell_type": "markdown",
   "metadata": {
    "id": "KtnohPKC7nL0"
   },
   "source": [
    "###What are the most popular/ used stations ?"
   ]
  },
  {
   "cell_type": "code",
   "execution_count": null,
   "metadata": {
    "colab": {
     "base_uri": "https://localhost:8080/"
    },
    "id": "bx77AdYg5ihr",
    "outputId": "9ee264f4-aaba-408d-d74f-fb88d861dd6f"
   },
   "outputs": [
    {
     "data": {
      "text/plain": [
       "330"
      ]
     },
     "execution_count": 29,
     "metadata": {},
     "output_type": "execute_result"
    }
   ],
   "source": [
    "bikes_clean['start_station_name'].nunique()"
   ]
  },
  {
   "cell_type": "markdown",
   "metadata": {
    "id": "yCa9Tuk675pc"
   },
   "source": [
    "There are 330 different stations that were used "
   ]
  },
  {
   "cell_type": "code",
   "execution_count": null,
   "metadata": {
    "colab": {
     "base_uri": "https://localhost:8080/",
     "height": 283
    },
    "id": "yxMDtRuv74_h",
    "outputId": "deda5956-038b-4f3d-99af-490ffb7a0363"
   },
   "outputs": [
    {
     "data": {
      "image/png": "[encoded data removed]",
      "text/plain": [
       "<Figure size 432x288 with 1 Axes>"
      ]
     },
     "metadata": {
      "needs_background": "light"
     },
     "output_type": "display_data"
    }
   ],
   "source": [
    "plt.title('Most Popular Start Stations', fontsize=15)\n",
    "bikes_clean.start_station_name.value_counts(ascending=True).tail(10).plot.barh();"
   ]
  },
  {
   "cell_type": "code",
   "execution_count": null,
   "metadata": {
    "colab": {
     "base_uri": "https://localhost:8080/",
     "height": 283
    },
    "id": "jheAfUFr8gDC",
    "outputId": "4ed71506-0d71-4f0e-db89-3357c7d63b36"
   },
   "outputs": [
    {
     "data": {
      "image/png": "[encoded data removed]",
      "text/plain": [
       "<Figure size 432x288 with 1 Axes>"
      ]
     },
     "metadata": {
      "needs_background": "light"
     },
     "output_type": "display_data"
    }
   ],
   "source": [
    "plt.title('Most Popular End Stations', fontsize=15)\n",
    "bikes_clean.end_station_name.value_counts(ascending=True).tail(10).plot.barh();"
   ]
  },
  {
   "cell_type": "markdown",
   "metadata": {
    "id": "jD5KBUrG880Q"
   },
   "source": [
    "From the most popular start and end stations we can also get the most popular stations in both categories "
   ]
  },
  {
   "cell_type": "code",
   "execution_count": null,
   "metadata": {
    "colab": {
     "base_uri": "https://localhost:8080/"
    },
    "id": "AC-aP_3q8u-k",
    "outputId": "90d4038c-299b-428d-e60b-fc2d57384b1c"
   },
   "outputs": [
    {
     "name": "stdout",
     "output_type": "stream",
     "text": [
      "Steuart St at Market St\n",
      "Powell St BART Station (Market St at 5th St)\n",
      "San Francisco Caltrain (Townsend St at 4th St)\n",
      "San Francisco Ferry Building (Harry Bridges Plaza)\n",
      "Powell St BART Station (Market St at 4th St)\n",
      "Montgomery St BART Station (Market St at 2nd St)\n",
      "Berry St at 4th St\n",
      "San Francisco Caltrain Station 2  (Townsend St at 4th St)\n",
      "Market St at 10th St\n"
     ]
    }
   ],
   "source": [
    "station_start = bikes_clean.start_station_name.value_counts(ascending=True).tail(10)\n",
    "station_end = bikes_clean.end_station_name.value_counts(ascending=True).tail(10)\n",
    " \n",
    "for station in station_start.index:\n",
    "    if station in station_end:\n",
    "        print(station)"
   ]
  },
  {
   "cell_type": "markdown",
   "metadata": {
    "id": "_fhrPZVbWGGd"
   },
   "source": [
    "##The least most popular stations"
   ]
  },
  {
   "cell_type": "code",
   "execution_count": null,
   "metadata": {
    "id": "kRUOdQnEWaeJ"
   },
   "outputs": [],
   "source": [
    "rare_starts = bikes_clean.start_station_name.value_counts(ascending=True).head(10)\n",
    "rare_ends = bikes_clean.end_station_name.value_counts(ascending=True).head(10)"
   ]
  },
  {
   "cell_type": "code",
   "execution_count": null,
   "metadata": {
    "colab": {
     "base_uri": "https://localhost:8080/",
     "height": 283
    },
    "id": "mg73INTPWKEn",
    "outputId": "e2c834cc-69d7-4f7b-d4d6-350f2b997ceb"
   },
   "outputs": [
    {
     "data": {
      "image/png": "[encoded data removed]",
      "text/plain": [
       "<Figure size 432x288 with 1 Axes>"
      ]
     },
     "metadata": {
      "needs_background": "light"
     },
     "output_type": "display_data"
    }
   ],
   "source": [
    "plt.title('Least Popular Start Stations', fontsize=15)\n",
    "rare_starts.plot.barh();"
   ]
  },
  {
   "cell_type": "code",
   "execution_count": null,
   "metadata": {
    "colab": {
     "base_uri": "https://localhost:8080/",
     "height": 283
    },
    "id": "48kSrjLvWR12",
    "outputId": "1839248d-f932-471e-dc48-70822698b192"
   },
   "outputs": [
    {
     "data": {
      "image/png": "[encoded data removed]",
      "text/plain": [
       "<Figure size 432x288 with 1 Axes>"
      ]
     },
     "metadata": {
      "needs_background": "light"
     },
     "output_type": "display_data"
    }
   ],
   "source": [
    "plt.title('Least Popular End Stations', fontsize=15)\n",
    "rare_ends.plot.barh();"
   ]
  },
  {
   "cell_type": "code",
   "execution_count": null,
   "metadata": {
    "colab": {
     "base_uri": "https://localhost:8080/"
    },
    "id": "3yektO0cW3DI",
    "outputId": "fa9b233c-1af2-4fd7-f964-459653790fd3"
   },
   "outputs": [
    {
     "name": "stdout",
     "output_type": "stream",
     "text": [
      "16th St Depot\n",
      "Palm St at Willow St\n",
      "21st Ave at International Blvd\n",
      "Parker Ave at McAllister St\n",
      "Willow St at Vine St\n",
      "Taylor St at 9th St\n",
      "Leavenworth St at Broadway\n",
      "Farnam St at Fruitvale Ave\n"
     ]
    }
   ],
   "source": [
    "for station in rare_starts.index:\n",
    "    if station in rare_ends:\n",
    "        print(station)"
   ]
  },
  {
   "cell_type": "markdown",
   "metadata": {
    "id": "490vXOOHPbv2"
   },
   "source": [
    "###Discuss the distribution(s) of your variable(s) of interest. Were there any unusual points? Did you need to perform any transformations?\n",
    "\n",
    "1.   There were some quality issues that needed to be cleaned like the conversion of datatypes\n",
    "2.   Some columns were added to help with the time analysis such as the hour of the day the bikes were used and the conversion of the duration in seconds to minutes to better help in understanding the data\n",
    "\n"
   ]
  },
  {
   "cell_type": "markdown",
   "metadata": {
    "id": "QedbX9AyQz9a"
   },
   "source": [
    "##Bivariate Relationship"
   ]
  },
  {
   "cell_type": "markdown",
   "metadata": {
    "id": "r-CmdZQM5Ouh"
   },
   "source": [
    "###Average Duration Relationship between both User Types"
   ]
  },
  {
   "cell_type": "code",
   "execution_count": null,
   "metadata": {
    "id": "MFOaHCKAQ2by"
   },
   "outputs": [],
   "source": [
    "customer = bikes_clean.user_type == 'Customer'\n",
    "subscribers = bikes_clean.user_type == 'Subscriber'"
   ]
  },
  {
   "cell_type": "code",
   "execution_count": null,
   "metadata": {
    "colab": {
     "base_uri": "https://localhost:8080/"
    },
    "id": "_QLOIUt3Zvz5",
    "outputId": "9420d90a-3fd1-4020-c655-9e2fba468ade"
   },
   "outputs": [
    {
     "data": {
      "text/plain": [
       "23.874416985437218"
      ]
     },
     "execution_count": 39,
     "metadata": {},
     "output_type": "execute_result"
    }
   ],
   "source": [
    "bikes_clean[customer].duration_in_min.mean()"
   ]
  },
  {
   "cell_type": "code",
   "execution_count": null,
   "metadata": {
    "colab": {
     "base_uri": "https://localhost:8080/"
    },
    "id": "oZKuy1vUZ8Ed",
    "outputId": "8818900b-a2cc-4840-836d-a6124439d5dc"
   },
   "outputs": [
    {
     "data": {
      "text/plain": [
       "10.671061304603043"
      ]
     },
     "execution_count": 40,
     "metadata": {},
     "output_type": "execute_result"
    }
   ],
   "source": [
    "bikes_clean[subscribers].duration_in_min.mean()"
   ]
  },
  {
   "cell_type": "markdown",
   "metadata": {
    "id": "A-EV5lj9a8iZ"
   },
   "source": [
    "This means that the average duration in minutes for customers (23.87) is higher than that of subscibers (10.67)"
   ]
  },
  {
   "cell_type": "code",
   "execution_count": 46,
   "metadata": {
    "colab": {
     "base_uri": "https://localhost:8080/",
     "height": 417
    },
    "id": "iYM_ww0za1oO",
    "outputId": "1e046519-93b3-4fa4-8188-785e2e446a5e"
   },
   "outputs": [
    {
     "data": {
      "image/png": "[encoded data removed]",
      "text/plain": [
       "<Figure size 720x432 with 1 Axes>"
      ]
     },
     "metadata": {
      "needs_background": "light"
     },
     "output_type": "display_data"
    }
   ],
   "source": [
    "user_duration = bikes_clean[['user_type', 'duration_sec']].groupby('user_type').mean()\n",
    "\n",
    "ax = user_duration.plot(kind='bar', figsize=(10,6), color=sns.color_palette()[0], fontsize=13);\n",
    "\n",
    "locs, labels = plt.xticks()\n",
    "\n",
    "ax.set_title(\"Average Trip Duration (sec)\", fontsize=20)\n",
    "ax.set_ylabel('seconds', fontsize=15)\n",
    "ax.set_xlabel('users', fontsize=15)\n",
    "plt.xticks(rotation=0)\n",
    "ax.get_legend().remove() \n",
    "plt.ylabel('seconds')\n",
    "plt.xlabel('Users')\n",
    "# Show the plot\n",
    "plt.show();"
   ]
  },
  {
   "cell_type": "markdown",
   "metadata": {
    "id": "B6vqx0abKEBE"
   },
   "source": [
    "Customers spend way more time using the service than subscribers do"
   ]
  },
  {
   "cell_type": "markdown",
   "metadata": {
    "id": "Qq3bn9ZX5iJP"
   },
   "source": [
    "###Distribution per User Type"
   ]
  },
  {
   "cell_type": "code",
   "execution_count": null,
   "metadata": {
    "colab": {
     "base_uri": "https://localhost:8080/",
     "height": 425
    },
    "id": "NaiypOKKp5fi",
    "outputId": "d2ec0a18-491e-4c9a-b8b5-daa65a2f7314",
    "scrolled": false
   },
   "outputs": [
    {
     "name": "stderr",
     "output_type": "stream",
     "text": [
      "/usr/local/lib/python3.7/dist-packages/seaborn/axisgrid.py:337: UserWarning: The `size` parameter has been renamed to `height`; please update your code.\n",
      "  warnings.warn(msg, UserWarning)\n"
     ]
    },
    {
     "data": {
      "image/png": "[encoded data removed]",
      "text/plain": [
       "<Figure size 720x360 with 2 Axes>"
      ]
     },
     "metadata": {
      "needs_background": "light"
     },
     "output_type": "display_data"
    }
   ],
   "source": [
    "g = sns.FacetGrid(bikes_clean, col=\"user_type\", margin_titles=True, size=5)\n",
    "bin_edges = np.arange(0, 3600,60)\n",
    "g.map(plt.hist, \"duration_sec\", color=sns.color_palette()[1], bins=bin_edges)\n",
    "g.set_axis_labels(\"Duration (sec)\", \"Bike Trips\")\n",
    "g.set_titles(col_template = '{col_name}')\n",
    "g.fig.suptitle('Trip duration (sec) Distribution per user type', y=1.03, fontsize=14, fontweight='semibold');"
   ]
  },
  {
   "cell_type": "markdown",
   "metadata": {
    "id": "vh9kum7OrvT4"
   },
   "source": [
    "They are both rightly skewed.  However, the subscribers have more of a peak and this is expected because there are a lot more subscribers than customers"
   ]
  },
  {
   "cell_type": "code",
   "execution_count": 24,
   "metadata": {
    "colab": {
     "base_uri": "https://localhost:8080/",
     "height": 391
    },
    "id": "Jz0GjvAQtYzv",
    "outputId": "a4fd5ac6-4802-4b5b-fb00-60752ab62f3b"
   },
   "outputs": [
    {
     "data": {
      "image/png": "[encoded data removed]",
      "text/plain": [
       "<Figure size 720x360 with 2 Axes>"
      ]
     },
     "metadata": {
      "needs_background": "light"
     },
     "output_type": "display_data"
    }
   ],
   "source": [
    "data = bikes_clean.query('duration_sec < 3600')\n",
    "g = sns.catplot(data=data, y='duration_sec', col=\"user_type\", kind='box', color = sns.color_palette()[1])\n",
    "g.set_titles(col_template = '{col_name}')\n",
    "g.set_axis_labels(\"\", \"Trip duration (sec)\")\n",
    "g.fig.suptitle('Trip duration (sec) boxplot per user type', y=1.03, fontsize=14, fontweight='semibold');"
   ]
  },
  {
   "cell_type": "markdown",
   "metadata": {
    "id": "9NE-BJFa59Qb"
   },
   "source": [
    "From the boxplot we can infer than the customers use the bikes mostly for short trips which most likely means they use the bikes for fun\n"
   ]
  },
  {
   "cell_type": "markdown",
   "metadata": {
    "id": "uUoRQRQo5mTq"
   },
   "source": [
    "###Relationship between both User Types Usage Per Day"
   ]
  },
  {
   "cell_type": "code",
   "execution_count": 52,
   "metadata": {
    "colab": {
     "base_uri": "https://localhost:8080/",
     "height": 459
    },
    "id": "FIGNTB7pplFe",
    "outputId": "500c9b3c-5afa-4509-aaab-00bb4730dc25"
   },
   "outputs": [
    {
     "data": {
      "image/png": "[encoded data removed]",
      "text/plain": [
       "<Figure size 720x504 with 1 Axes>"
      ]
     },
     "metadata": {
      "needs_background": "light"
     },
     "output_type": "display_data"
    }
   ],
   "source": [
    "#To show service usage based on day of the week\n",
    "myplot(bikes_clean,'day', hueVar='user_type', order=day_name)"
   ]
  },
  {
   "cell_type": "code",
   "execution_count": 53,
   "metadata": {
    "id": "BvV6eWPymrcP"
   },
   "outputs": [],
   "source": [
    "# #To show service usage based on day of the week\n",
    "# plt.figure(figsize=(10,6))\n",
    "# plt.title('Bike Usage per Day', fontsize=15)\n",
    "# chart = sns.countplot(data=bikes_clean, x='day', order=day_name, hue='user_type')\n",
    "# chart.set(xlabel='Day', ylabel='')\n",
    "# plt.gca().legend().set_title('');"
   ]
  },
  {
   "cell_type": "markdown",
   "metadata": {
    "id": "j24XecjSomzk"
   },
   "source": [
    "Use of the bike service ia a lot higher on weekdays. \n",
    "Customers also saw a slight increase on Thursday while subscribers tend to not use the bike service during weekends"
   ]
  },
  {
   "cell_type": "markdown",
   "metadata": {
    "id": "Cl8lJykB5twy"
   },
   "source": [
    "###Relationship between both User Types Usage Per Hour"
   ]
  },
  {
   "cell_type": "code",
   "execution_count": 70,
   "metadata": {
    "colab": {
     "base_uri": "https://localhost:8080/",
     "height": 459
    },
    "id": "fdxDB3dtp6Yu",
    "outputId": "b6730dd5-ffc0-48cf-f21a-b610ac6739e7"
   },
   "outputs": [
    {
     "data": {
      "image/png": "[encoded data removed]",
      "text/plain": [
       "<Figure size 720x504 with 1 Axes>"
      ]
     },
     "metadata": {
      "needs_background": "light"
     },
     "output_type": "display_data"
    }
   ],
   "source": [
    "myplot(bikes_clean,'hour_of_day',hueVar='user_type')"
   ]
  },
  {
   "cell_type": "code",
   "execution_count": 78,
   "metadata": {
    "id": "GAz87Y3cocfb"
   },
   "outputs": [],
   "source": [
    "# plt.figure(figsize=(10,6))\n",
    "# plt.title('Bike Usage per Hour', fontsize=15)\n",
    "# chart = sns.countplot(data=bikes_clean, x='hour_of_day', hue='user_type')\n",
    "# chart.set(xlabel='Hour', ylabel='')\n",
    "# plt.legend();"
   ]
  },
  {
   "cell_type": "markdown",
   "metadata": {
    "id": "YX4P0fjIqDXO"
   },
   "source": [
    "Subscribers tend to use the service more around the hours of 8:00 and 17:00 "
   ]
  },
  {
   "cell_type": "markdown",
   "metadata": {
    "id": "-Z0UwlgAuiQj"
   },
   "source": [
    "###Talk about some of the relationships you observed in this part of the investigation. How did the feature(s) of interest vary with other features in the dataset?\n",
    "\n",
    "We find that weekends are not utlized that much for subscribers. We can also assume that customers are more likely to be using this service for short trips from the data"
   ]
  },
  {
   "cell_type": "markdown",
   "metadata": {
    "id": "GPzGIoovvUMw"
   },
   "source": [
    "###Did you observe any interesting relationships between the other features (not the main feature(s) of interest)?\n",
    "\n",
    "Definitely, Both subscribers and customers have a different uses for the bikes. Subscibers are more likely to use for workday and weekday uses while customers more likely to use for fun and shorter trips"
   ]
  },
  {
   "cell_type": "markdown",
   "metadata": {
    "id": "bBhO1TohvoO-"
   },
   "source": [
    "###Multivariate Relationship"
   ]
  },
  {
   "cell_type": "markdown",
   "metadata": {
    "id": "UjOMC4ym6Hff"
   },
   "source": [
    "###Amont of time spent per day per User Type"
   ]
  },
  {
   "cell_type": "code",
   "execution_count": 81,
   "metadata": {
    "colab": {
     "base_uri": "https://localhost:8080/",
     "height": 350
    },
    "id": "BuJSr6tHwc19",
    "outputId": "c6c53c0f-2662-495b-c3e1-481faba71bee"
   },
   "outputs": [
    {
     "data": {
      "image/png": "[encoded data removed]",
      "text/plain": [
       "<Figure size 1440x360 with 1 Axes>"
      ]
     },
     "metadata": {
      "needs_background": "light"
     },
     "output_type": "display_data"
    }
   ],
   "source": [
    "plt.figure(figsize=[20, 5])\n",
    "plt.subplot(1, 2, 1)\n",
    "sns.pointplot(data=bikes_clean, x='day', y='duration_in_min', hue='user_type', order= day_name, errwidth=0)\n",
    "plt.xlabel('Days')\n",
    "plt.ylabel('Duration (min)')\n",
    "plt.title('Amont of time spent per day per User Type')\n",
    "plt.legend(title='User Type');"
   ]
  },
  {
   "cell_type": "markdown",
   "metadata": {
    "id": "_isYXOp7zkAA"
   },
   "source": [
    "Customers would use the bikes more times on the weekends or non working days with unstable times compared to subscribers who have more stable use of the bikes during the weekdays"
   ]
  },
  {
   "cell_type": "markdown",
   "metadata": {
    "id": "9avhL8tY6Wlv"
   },
   "source": [
    "###Hourly Duration Usage"
   ]
  },
  {
   "cell_type": "code",
   "execution_count": 80,
   "metadata": {
    "colab": {
     "base_uri": "https://localhost:8080/",
     "height": 406
    },
    "id": "X26gsOx9pRnh",
    "outputId": "4a195972-be8f-4db5-8f81-e9505b3b62e8"
   },
   "outputs": [
    {
     "data": {
      "image/png": "[encoded data removed]",
      "text/plain": [
       "<Figure size 720x432 with 1 Axes>"
      ]
     },
     "metadata": {
      "needs_background": "light"
     },
     "output_type": "display_data"
    }
   ],
   "source": [
    "plt.figure(figsize=(10,6))\n",
    "plt.title('Hourly Duration Usage', fontsize=15)\n",
    "sns.barplot(data=bikes_clean, x='hour_of_day', y='duration_sec', hue='user_type', ci = None)\n",
    "\n",
    "# chart.set(xlabel='Hour', ylabel='')\n",
    "\n",
    "plt.ylabel('Seconds(s)')\n",
    "plt.xlabel('Hour of the Day')\n",
    "plt.legend();"
   ]
  },
  {
   "cell_type": "markdown",
   "metadata": {
    "id": "15Nr_Dh20J_x"
   },
   "source": [
    "Subscribers seem to have a lot more stable use of the bikes than the Customers although Customer usage is also high. Its interesting that Customers have a very high average duration around 3AM which is higher than every other hour"
   ]
  },
  {
   "cell_type": "markdown",
   "metadata": {
    "id": "ch8qmFlTv8nD"
   },
   "source": [
    "##Conclusion"
   ]
  },
  {
   "cell_type": "markdown",
   "metadata": {
    "id": "vhstF-9ozwnQ"
   },
   "source": [
    "##Talk about some of the relationships you observed in this part of the investigation. Were there features that strengthened each other in terms of looking at your feature(s) of interest?\n",
    "\n",
    "The Customer uses vary a lot from the subsciber uses which means the type of user has a major influence on the use of the bike service more specifically on the hour, day and duration of bike usage. Subscribers tend to use it more during weekdays while Customers have a lot more flexible time to use the service."
   ]
  },
  {
   "cell_type": "markdown",
   "metadata": {
    "id": "eoxws4xm1z0Y"
   },
   "source": [
    "##Were there any interesting or surprising interactions between features?\n",
    "\n",
    "Yes, The average usage of the bike peaked at 3AM and was mostly used by Customers"
   ]
  },
  {
   "cell_type": "code",
   "execution_count": null,
   "metadata": {
    "id": "KKGy0Kp2y700"
   },
   "outputs": [],
   "source": []
  }
 ],
 "metadata": {
  "colab": {
   "collapsed_sections": [],
   "provenance": []
  },
  "kernelspec": {
   "display_name": "Python 3",
   "language": "python",
   "name": "python3"
  },
  "language_info": {
   "codemirror_mode": {
    "name": "ipython",
    "version": 3
   },
   "file_extension": ".py",
   "mimetype": "text/x-python",
   "name": "python",
   "nbconvert_exporter": "python",
   "pygments_lexer": "ipython3",
   "version": "3.6.3"
  }
 },
 "nbformat": 4,
 "nbformat_minor": 1
}
